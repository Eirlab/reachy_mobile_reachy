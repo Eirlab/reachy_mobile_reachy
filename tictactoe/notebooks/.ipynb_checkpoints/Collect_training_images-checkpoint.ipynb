{
 "cells": [
  {
   "cell_type": "markdown",
   "metadata": {},
   "source": [
    "This notebook is here to help you collect images to train a custom classifier which classify your own game pieces."
   ]
  },
  {
   "cell_type": "code",
   "execution_count": null,
   "metadata": {},
   "outputs": [],
   "source": [
    "# imports\n",
    "\n",
    "%matplotlib notebook \n",
    "\n",
    "import cv2 as cv \n",
    "import numpy as np \n",
    "\n",
    "import glob, os \n",
    "import matplotlib.pyplot as plt \n",
    "import time\n",
    "\n",
    "from reachy import Reachy, parts"
   ]
  },
  {
   "cell_type": "markdown",
   "metadata": {},
   "source": [
    "First we'll record board images. Create a folder called **'board_images'**.\n",
    "\n",
    "The robot will look up and down 10 times, move the board pieces during that time. Try not to have your hand on the board while he is looking at the board. "
   ]
  },
  {
   "cell_type": "code",
   "execution_count": null,
   "metadata": {},
   "outputs": [],
   "source": [
    "# Before warm-up the motors again, just to be sure \n",
    "\n",
    "reachy.head.compliant = False\n",
    "\n",
    "time.sleep(1.0)\n",
    "\n",
    "for _ in range(20):\n",
    "    reachy.head.look_at(0.5, 0, -0.6, 1, True)\n",
    "    time.sleep(0.5)\n",
    "    reachy.head.look_at(0.5, 0, -0.6, 1, True)\n",
    "    \n",
    "time.sleep(1.0)\n",
    "\n",
    "reachy.head.look_at(0.5, 0, 0, 1.5, True)\n",
    "\n",
    "reachy.head.compliant = True"
   ]
  },
  {
   "cell_type": "markdown",
   "metadata": {},
   "source": [
    "Copy here your own board_cases array that you obtained using the notebook \"Check_boxes\"."
   ]
  },
  {
   "cell_type": "code",
   "execution_count": null,
   "metadata": {},
   "outputs": [],
   "source": [
    "board_cases = np.array((\n",
    "    ((209, 316, 253, 346), \n",
    "     (316, 425, 253, 346), \n",
    "     (425, 529, 253, 346),),\n",
    "\n",
    "    ((189, 306, 346, 455),\n",
    "     (306, 428, 346, 455),\n",
    "     (428, 538, 346, 455),),\n",
    "\n",
    "    ((174, 299, 455, 580),\n",
    "     (299, 429, 455, 580),\n",
    "     (429, 551, 455, 580),),\n",
    "))"
   ]
  },
  {
   "cell_type": "markdown",
   "metadata": {},
   "source": [
    "Then collect board images."
   ]
  },
  {
   "cell_type": "code",
   "execution_count": null,
   "metadata": {},
   "outputs": [],
   "source": [
    "for i in range(10):\n",
    "    reachy.head.look_at(0.5, 0, -0.6, 1, True)\n",
    "    time.sleep(1.0)\n",
    "    img = reachy.head.get_image()\n",
    "    \n",
    "    reachy.head.look_at(0.5, 0, 0, 1, True)\n",
    "    cv.imwrite('board_images/board.%i.jpg' %i, img)\n",
    "    time.sleep(2.0)\n",
    "\n",
    "reachy.head.look_at(0.5, 0, 0, 1.5, True)\n",
    "\n",
    "reachy.head.compliant = True"
   ]
  },
  {
   "cell_type": "markdown",
   "metadata": {},
   "source": [
    "Check in the 'board_image' folder that each image are correct (i.e. not oclurred by your hand), delete the ones that are incorrect.\n",
    "\n",
    "Now we'll record the images of each board case, create a folder called **board_case**."
   ]
  },
  {
   "cell_type": "code",
   "execution_count": null,
   "metadata": {},
   "outputs": [],
   "source": [
    "for im_path in glob.glob('board_images/*.jpg'):\n",
    "    img = cv.imread(im_path)\n",
    "    for row in range(3):\n",
    "        for col in range(3):\n",
    "            xl, xr, yt, yb = board_cases[row, col]\n",
    "            ind = np.random.randint(1000)\n",
    "            cv.imwrite('board_case/case.%i.jpg' %ind, img[yt:yb, xl:xr])"
   ]
  }
 ],
 "metadata": {
  "kernelspec": {
   "display_name": "Python 3",
   "language": "python",
   "name": "python3"
  },
  "language_info": {
   "codemirror_mode": {
    "name": "ipython",
    "version": 3
   },
   "file_extension": ".py",
   "mimetype": "text/x-python",
   "name": "python",
   "nbconvert_exporter": "python",
   "pygments_lexer": "ipython3",
   "version": "3.8.5"
  }
 },
 "nbformat": 4,
 "nbformat_minor": 4
}
