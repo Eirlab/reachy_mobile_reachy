{
 "cells": [
  {
   "cell_type": "markdown",
   "id": "ca9b2459",
   "metadata": {},
   "source": [
    "## Recorde the different mouvement for tictactoe 2021"
   ]
  },
  {
   "cell_type": "code",
   "execution_count": null,
   "id": "d7e1ce5d",
   "metadata": {},
   "outputs": [],
   "source": [
    "from reachy_sdk import ReachySDK\n",
    "import numpy as np\n",
    "import time \n",
    "from reachy_sdk.trajectory import goto\n",
    "from reachy_sdk.trajectory.interpolation import InterpolationMode"
   ]
  },
  {
   "cell_type": "code",
   "execution_count": null,
   "id": "25f96445",
   "metadata": {},
   "outputs": [],
   "source": [
    "reachy = ReachySDK('localhost')"
   ]
  },
  {
   "cell_type": "markdown",
   "id": "c186bb67",
   "metadata": {},
   "source": [
    "To test the mouvement with your configuration : "
   ]
  },
  {
   "cell_type": "markdown",
   "id": "56ff53ce",
   "metadata": {},
   "source": [
    "For simple mouvement :"
   ]
  },
  {
   "cell_type": "code",
   "execution_count": null,
   "id": "99613125",
   "metadata": {},
   "outputs": [],
   "source": [
    "def goto_position(path): \n",
    "    reachy.turn_on('reachy')\n",
    "    move = np.load(path)\n",
    "    move.allow_pickle=1\n",
    "    print(move['move'])\n",
    "    listMoves = move['move'].tolist()\n",
    "    listTraj = {}\n",
    "    #listTraj = { eval('self.'+key):float(val) for key,val in listMoves.items() }\n",
    "    for key,val in listMoves.items():\n",
    "        listTraj[eval(key)] = float(val)\n",
    "\n",
    "    goto(\n",
    "        goal_positions=listTraj, \n",
    "        duration=2.0,\n",
    "        interpolation_mode=InterpolationMode.MINIMUM_JERK\n",
    "    )"
   ]
  },
  {
   "cell_type": "code",
   "execution_count": null,
   "id": "93aec614",
   "metadata": {},
   "outputs": [],
   "source": [
    "grab_index=1\n",
    "path='/home/reachy/dev/tictactoe2021/reachy_tictactoe/moves-2021_nemo/back_1_upright.npz'\n",
    "goto_position(path)"
   ]
  },
  {
   "cell_type": "markdown",
   "id": "7a91e868",
   "metadata": {},
   "source": [
    "For complexe trajectories : "
   ]
  },
  {
   "cell_type": "code",
   "execution_count": null,
   "id": "436e38fa",
   "metadata": {},
   "outputs": [],
   "source": [
    "def trajectoryPlayer(path):\n",
    "    reachy.turn_on('reachy')\n",
    "    move = np.load(path)\n",
    "    move.allow_pickle=1\n",
    "    #print(list(move.keys()))\n",
    "    #print(move['move'].shape)\n",
    "    listMoves = move['move'].tolist()\n",
    "    #print(move['move'])\n",
    "    #print(listMoves)\n",
    "    listTraj = [val for key,val in listMoves.items()]\n",
    "    listTraj = np.array(listTraj).T.tolist()\n",
    "\n",
    "    sampling_frequency = 100  #en hertz\n",
    "\n",
    "    recorded_joints = []\n",
    "    for joint,val in listMoves.items():\n",
    "        if 'neck' in joint : \n",
    "            fullName = joint\n",
    "        elif 'r_' in joint: \n",
    "            fullName = joint\n",
    "        elif 'l_' in joint: \n",
    "            fullName = joint\n",
    "        recorded_joints.append(eval(fullName))\n",
    "        \n",
    "    first_point = dict(zip(recorded_joints, listTraj[0]))\n",
    "    goto(first_point, duration=3.0)\n",
    "\n",
    "    for joints_positions in listTraj:\n",
    "        print(joints_positions)\n",
    "        for joint, pos in zip(recorded_joints, joints_positions):\n",
    "            joint.goal_position = pos\n",
    "        time.sleep(1 / sampling_frequency)"
   ]
  },
  {
   "cell_type": "code",
   "execution_count": null,
   "id": "a4232834",
   "metadata": {},
   "outputs": [],
   "source": [
    "path = '/home/reachy/dev/tictactoe2021/reachy_tictactoe/moves-2021_nemo/put_5.npz'\n",
    "trajectoryPlayer(path)"
   ]
  },
  {
   "cell_type": "code",
   "execution_count": null,
   "id": "5dc30889",
   "metadata": {},
   "outputs": [],
   "source": [
    "path = '/home/reachy/dev/tictactoe2021/reachy_tictactoe/moves-2021_nemo/put_5.npz'\n",
    "trajectoryPlayer(path)"
   ]
  },
  {
   "cell_type": "markdown",
   "id": "352a9665",
   "metadata": {},
   "source": [
    "Record a new mouvement : "
   ]
  },
  {
   "cell_type": "markdown",
   "id": "fa224d18",
   "metadata": {},
   "source": [
    "Bras gauche "
   ]
  },
  {
   "cell_type": "code",
   "execution_count": null,
   "id": "34faf6d1",
   "metadata": {},
   "outputs": [],
   "source": [
    "recorded_joints = [\n",
    "    reachy.l_arm.l_shoulder_pitch,\n",
    "    reachy.l_arm.l_shoulder_roll,\n",
    "    reachy.l_arm.l_arm_yaw,\n",
    "    reachy.l_arm.l_elbow_pitch,\n",
    "    reachy.l_arm.l_forearm_yaw,\n",
    "    reachy.l_arm.l_wrist_pitch,\n",
    "    reachy.l_arm.l_wrist_roll,\n",
    "]\n",
    "        \n",
    "sampling_frequency = 100  #en hertz\n",
    "record_duration = 5  #en seconde"
   ]
  },
  {
   "cell_type": "markdown",
   "id": "de77af78",
   "metadata": {},
   "source": [
    "Bras droit"
   ]
  },
  {
   "cell_type": "code",
   "execution_count": null,
   "id": "b4941d91",
   "metadata": {},
   "outputs": [],
   "source": [
    "recorded_joints = [\n",
    "    reachy.r_arm.r_shoulder_pitch,\n",
    "    reachy.r_arm.r_shoulder_roll,\n",
    "    reachy.r_arm.r_arm_yaw,\n",
    "    reachy.r_arm.r_elbow_pitch,\n",
    "    reachy.r_arm.r_forearm_yaw,\n",
    "    reachy.r_arm.r_wrist_pitch,\n",
    "    reachy.r_arm.r_wrist_roll,\n",
    "]\n",
    "        \n",
    "sampling_frequency = 100  #en hertz\n",
    "record_duration = 5  #en seconde"
   ]
  },
  {
   "cell_type": "code",
   "execution_count": null,
   "id": "cd38e653",
   "metadata": {},
   "outputs": [],
   "source": [
    "reachy.turn_on('reachy')\n",
    "goto(\n",
    "        goal_positions=\n",
    "                {reachy.r_arm.r_shoulder_pitch: 50,\n",
    "                reachy.r_arm.r_shoulder_roll: -15,\n",
    "                reachy.r_arm.r_arm_yaw: 0,\n",
    "                reachy.r_arm.r_elbow_pitch: -100,\n",
    "                reachy.r_arm.r_forearm_yaw: -15,\n",
    "                reachy.r_arm.r_wrist_pitch: -60,\n",
    "                reachy.r_arm.r_wrist_roll: 0},\n",
    "            duration=1.0,\n",
    "            interpolation_mode=InterpolationMode.MINIMUM_JERK\n",
    "        )"
   ]
  },
  {
   "cell_type": "code",
   "execution_count": null,
   "id": "46fb9937",
   "metadata": {},
   "outputs": [],
   "source": [
    "reachy.turn_off_smoothly('reachy')"
   ]
  },
  {
   "cell_type": "code",
   "execution_count": null,
   "id": "717f0851",
   "metadata": {},
   "outputs": [],
   "source": [
    "trajectories = [] #on créer une nouvelle liste trajectoire\n",
    "\n",
    "start = time.time() #seconde passées depuis epoch\n",
    "while (time.time() - start) < record_duration:\n",
    "    #on optient les positions actuelles de toutes les jointures \n",
    "    current_point = [joint.present_position for joint in recorded_joints]\n",
    "    #print(current_point)\n",
    "    #on ajoute les positions à la liste trajectoire \n",
    "    trajectories.append(current_point)\n",
    "\n",
    "    time.sleep(1 / sampling_frequency)\n",
    "\n",
    "traj = {}\n",
    "for joint,val in zip(recorded_joints,np.array(trajectories).T):\n",
    "    joint = joint.name\n",
    "    print(joint)\n",
    "    if 'neck' in joint : \n",
    "        fullName = 'reachy.head.'+joint\n",
    "    elif joint.startswith('r_') : \n",
    "        fullName = 'reachy.r_arm.'+joint\n",
    "    elif joint.startswith('l_') : \n",
    "        fullName = 'reachy.l_arm.'+joint\n",
    "    traj[fullName]=val\n",
    "\n",
    "print(traj)"
   ]
  },
  {
   "cell_type": "markdown",
   "id": "54d1278c",
   "metadata": {},
   "source": [
    "Record simple position : "
   ]
  },
  {
   "cell_type": "code",
   "execution_count": null,
   "id": "57caa625",
   "metadata": {},
   "outputs": [],
   "source": [
    "trajectories = [] #on créer une nouvelle liste trajectoire\n",
    "\n",
    "start = time.time() #seconde passées depuis epoch\n",
    "#on optient les positions actuelles de toutes les jointures \n",
    "current_point = [joint.present_position for joint in recorded_joints]\n",
    "#print(current_point)\n",
    "#on ajoute les positions à la liste trajectoire \n",
    "trajectories.append(current_point)\n",
    "\n",
    "traj = {}\n",
    "for joint,val in zip(recorded_joints,np.array(trajectories).T):\n",
    "    joint = joint.name\n",
    "    print(joint)\n",
    "    if 'neck' in joint : \n",
    "        fullName = 'reachy.head.'+joint\n",
    "    elif joint.startswith('r_') : \n",
    "        fullName = 'reachy.r_arm.'+joint\n",
    "    elif joint.startswith('l_') : \n",
    "        fullName = 'reachy.l_arm.'+joint\n",
    "    traj[fullName]=val\n",
    "\n",
    "print(traj)"
   ]
  },
  {
   "cell_type": "markdown",
   "id": "c7ca8807",
   "metadata": {},
   "source": [
    "Save as a .npz format : "
   ]
  },
  {
   "cell_type": "code",
   "execution_count": null,
   "id": "1a88bd03",
   "metadata": {},
   "outputs": [],
   "source": [
    "np.savez('/home/reachy/dev/tictactoe2021/reachy_tictactoe/moves-2021_nemo/put_1',move=traj)"
   ]
  },
  {
   "cell_type": "code",
   "execution_count": null,
   "id": "f9c1738b",
   "metadata": {},
   "outputs": [],
   "source": []
  }
 ],
 "metadata": {
  "kernelspec": {
   "display_name": "Python 3",
   "language": "python",
   "name": "python3"
  },
  "language_info": {
   "codemirror_mode": {
    "name": "ipython",
    "version": 3
   },
   "file_extension": ".py",
   "mimetype": "text/x-python",
   "name": "python",
   "nbconvert_exporter": "python",
   "pygments_lexer": "ipython3",
   "version": "3.8.5"
  }
 },
 "nbformat": 4,
 "nbformat_minor": 5
}
